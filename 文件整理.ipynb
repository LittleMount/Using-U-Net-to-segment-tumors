{
 "cells": [
  {
   "cell_type": "markdown",
   "metadata": {},
   "source": [
    "# 文件预处理；\n",
    "提取出train和test；python文件提取操作，循环操作，读写操作；  \n",
    "只提取动脉期的数据，提取之后保存到train文件夹中；  \n",
    "提取相应的mask；保存在label文件中  "
   ]
  },
  {
   "cell_type": "code",
   "execution_count": 1,
   "metadata": {},
   "outputs": [],
   "source": [
    "import os\n",
    "import sys\n",
    "import numpy as np\n",
    "import matplotlib.pyplot as plt\n",
    "\n",
    "from PIL import Image\n",
    "from glob import glob"
   ]
  },
  {
   "cell_type": "code",
   "execution_count": 2,
   "metadata": {},
   "outputs": [
    {
     "name": "stdout",
     "output_type": "stream",
     "text": [
      "['./all_data\\\\1001', './all_data\\\\1002', './all_data\\\\1003', './all_data\\\\1004', './all_data\\\\1005', './all_data\\\\1006', './all_data\\\\1007', './all_data\\\\1008', './all_data\\\\1009', './all_data\\\\1010', './all_data\\\\1011', './all_data\\\\1012', './all_data\\\\1013', './all_data\\\\1014', './all_data\\\\1015', './all_data\\\\1016', './all_data\\\\1017', './all_data\\\\1018', './all_data\\\\1019', './all_data\\\\1020', './all_data\\\\1021', './all_data\\\\1022', './all_data\\\\1023', './all_data\\\\1024', './all_data\\\\1025', './all_data\\\\1026', './all_data\\\\1027', './all_data\\\\1028', './all_data\\\\1029', './all_data\\\\1030', './all_data\\\\1031', './all_data\\\\1032', './all_data\\\\1033', './all_data\\\\1034', './all_data\\\\1035', './all_data\\\\1036', './all_data\\\\1037', './all_data\\\\1038', './all_data\\\\1039', './all_data\\\\1040', './all_data\\\\1041', './all_data\\\\1042', './all_data\\\\1043', './all_data\\\\1044', './all_data\\\\1045', './all_data\\\\1046', './all_data\\\\1047', './all_data\\\\1048', './all_data\\\\1049', './all_data\\\\1050', './all_data\\\\1051', './all_data\\\\1052', './all_data\\\\1053', './all_data\\\\1054', './all_data\\\\1055', './all_data\\\\1056', './all_data\\\\1057', './all_data\\\\1058', './all_data\\\\1059', './all_data\\\\1060', './all_data\\\\1061', './all_data\\\\1062', './all_data\\\\1063', './all_data\\\\1064', './all_data\\\\1065', './all_data\\\\1066', './all_data\\\\1067', './all_data\\\\1068', './all_data\\\\1069', './all_data\\\\1070', './all_data\\\\1071', './all_data\\\\1072', './all_data\\\\1073', './all_data\\\\1074', './all_data\\\\1075', './all_data\\\\1076', './all_data\\\\1077', './all_data\\\\1078', './all_data\\\\1079', './all_data\\\\1080', './all_data\\\\1081', './all_data\\\\1082', './all_data\\\\1083', './all_data\\\\1084', './all_data\\\\1085', './all_data\\\\1086', './all_data\\\\1087', './all_data\\\\1088', './all_data\\\\1089', './all_data\\\\1090', './all_data\\\\1091', './all_data\\\\1092', './all_data\\\\1093', './all_data\\\\1094', './all_data\\\\1095', './all_data\\\\1096', './all_data\\\\1097', './all_data\\\\1098', './all_data\\\\1099', './all_data\\\\1100', './all_data\\\\1101', './all_data\\\\1102', './all_data\\\\1103', './all_data\\\\1104', './all_data\\\\1105', './all_data\\\\1106', './all_data\\\\1107', './all_data\\\\1108']\n"
     ]
    }
   ],
   "source": [
    "file_name = glob('./all_data/*')\n",
    "print(file_name)"
   ]
  },
  {
   "cell_type": "code",
   "execution_count": 5,
   "metadata": {},
   "outputs": [
    {
     "name": "stdout",
     "output_type": "stream",
     "text": [
      "['.\\\\all_data\\\\1001\\\\arterial phase\\\\10001.png', '.\\\\all_data\\\\1001\\\\arterial phase\\\\10002.png', '.\\\\all_data\\\\1001\\\\arterial phase\\\\10003.png', '.\\\\all_data\\\\1001\\\\arterial phase\\\\10004.png', '.\\\\all_data\\\\1001\\\\arterial phase\\\\10005.png', '.\\\\all_data\\\\1001\\\\arterial phase\\\\10006.png', '.\\\\all_data\\\\1001\\\\arterial phase\\\\10007.png', '.\\\\all_data\\\\1001\\\\arterial phase\\\\10008.png', '.\\\\all_data\\\\1001\\\\arterial phase\\\\10009.png', '.\\\\all_data\\\\1001\\\\arterial phase\\\\10010.png', '.\\\\all_data\\\\1001\\\\arterial phase\\\\10011.png', '.\\\\all_data\\\\1001\\\\arterial phase\\\\10012.png', '.\\\\all_data\\\\1001\\\\arterial phase\\\\10013.png', '.\\\\all_data\\\\1001\\\\arterial phase\\\\10014.png', '.\\\\all_data\\\\1001\\\\arterial phase\\\\10015.png', '.\\\\all_data\\\\1001\\\\arterial phase\\\\10016.png', '.\\\\all_data\\\\1001\\\\arterial phase\\\\10017.png', '.\\\\all_data\\\\1001\\\\arterial phase\\\\10018.png', '.\\\\all_data\\\\1001\\\\arterial phase\\\\10019.png', '.\\\\all_data\\\\1001\\\\arterial phase\\\\10020.png']\n"
     ]
    }
   ],
   "source": [
    "file_path = glob('.\\\\all_data\\\\1001\\\\arterial phase\\\\*.png')\n",
    "print(file_path)"
   ]
  },
  {
   "cell_type": "code",
   "execution_count": 6,
   "metadata": {},
   "outputs": [
    {
     "data": {
      "text/plain": [
       "20"
      ]
     },
     "execution_count": 6,
     "metadata": {},
     "output_type": "execute_result"
    }
   ],
   "source": [
    "len(file_path)"
   ]
  },
  {
   "cell_type": "code",
   "execution_count": 7,
   "metadata": {},
   "outputs": [
    {
     "ename": "NameError",
     "evalue": "name 'Image' is not defined",
     "output_type": "error",
     "traceback": [
      "\u001b[1;31m---------------------------------------------------------------------------\u001b[0m",
      "\u001b[1;31mNameError\u001b[0m                                 Traceback (most recent call last)",
      "\u001b[1;32m<ipython-input-7-947f5f70fdc1>\u001b[0m in \u001b[0;36m<module>\u001b[1;34m\u001b[0m\n\u001b[0;32m      4\u001b[0m         \u001b[0mos\u001b[0m\u001b[1;33m.\u001b[0m\u001b[0mmakedirs\u001b[0m\u001b[1;33m(\u001b[0m\u001b[0mpath1\u001b[0m\u001b[1;33m)\u001b[0m\u001b[1;33m\u001b[0m\u001b[1;33m\u001b[0m\u001b[0m\n\u001b[0;32m      5\u001b[0m     \u001b[1;32mfor\u001b[0m \u001b[0mstep2\u001b[0m\u001b[1;33m,\u001b[0m \u001b[0mfilename\u001b[0m \u001b[1;32min\u001b[0m \u001b[0menumerate\u001b[0m\u001b[1;33m(\u001b[0m\u001b[0mglob\u001b[0m\u001b[1;33m(\u001b[0m\u001b[0mfile\u001b[0m\u001b[1;33m+\u001b[0m\u001b[1;34m'\\\\'\u001b[0m\u001b[1;33m+\u001b[0m\u001b[1;34m'arterial phase\\\\*'\u001b[0m\u001b[1;33m)\u001b[0m\u001b[1;33m)\u001b[0m\u001b[1;33m:\u001b[0m\u001b[1;33m\u001b[0m\u001b[1;33m\u001b[0m\u001b[0m\n\u001b[1;32m----> 6\u001b[1;33m         \u001b[0mimg\u001b[0m \u001b[1;33m=\u001b[0m \u001b[0mImage\u001b[0m\u001b[1;33m.\u001b[0m\u001b[0mopen\u001b[0m\u001b[1;33m(\u001b[0m\u001b[0mfilename\u001b[0m\u001b[1;33m)\u001b[0m\u001b[1;33m\u001b[0m\u001b[1;33m\u001b[0m\u001b[0m\n\u001b[0m\u001b[0;32m      7\u001b[0m         \u001b[0mimg\u001b[0m\u001b[1;33m.\u001b[0m\u001b[0msave\u001b[0m\u001b[1;33m(\u001b[0m\u001b[0mpath1\u001b[0m\u001b[1;33m+\u001b[0m\u001b[1;34m'/'\u001b[0m\u001b[1;33m+\u001b[0m\u001b[0mstr\u001b[0m\u001b[1;33m(\u001b[0m\u001b[0mstep2\u001b[0m\u001b[1;33m)\u001b[0m\u001b[1;33m+\u001b[0m\u001b[1;34m'png'\u001b[0m\u001b[1;33m)\u001b[0m\u001b[1;33m\u001b[0m\u001b[1;33m\u001b[0m\u001b[0m\n",
      "\u001b[1;31mNameError\u001b[0m: name 'Image' is not defined"
     ]
    }
   ],
   "source": [
    "for step1, file in enumerate(glob('.\\\\all_data\\\\*')):\n",
    "    path1 = './train/patient'+str(step1)\n",
    "    if not os.path.exists(path1):\n",
    "        os.makedirs(path1)\n",
    "    for step2, filename in enumerate(glob(file+'\\\\'+'arterial phase\\\\*')):\n",
    "        img = Image.open(filename)\n",
    "        img.save(path1+'/'+str(step2)+'png')"
   ]
  }
 ],
 "metadata": {
  "kernelspec": {
   "display_name": "Python 3",
   "language": "python",
   "name": "python3"
  },
  "language_info": {
   "codemirror_mode": {
    "name": "ipython",
    "version": 3
   },
   "file_extension": ".py",
   "mimetype": "text/x-python",
   "name": "python",
   "nbconvert_exporter": "python",
   "pygments_lexer": "ipython3",
   "version": "3.7.7"
  }
 },
 "nbformat": 4,
 "nbformat_minor": 4
}
